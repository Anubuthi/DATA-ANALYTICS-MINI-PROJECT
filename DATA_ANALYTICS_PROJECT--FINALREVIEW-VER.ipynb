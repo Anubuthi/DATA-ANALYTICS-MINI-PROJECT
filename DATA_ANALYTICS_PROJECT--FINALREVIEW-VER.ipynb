{
 "cells": [
  {
   "cell_type": "code",
   "execution_count": 1,
   "metadata": {
    "execution": {
     "iopub.execute_input": "2022-11-13T05:35:22.152017Z",
     "iopub.status.busy": "2022-11-13T05:35:22.150964Z",
     "iopub.status.idle": "2022-11-13T05:35:22.174213Z",
     "shell.execute_reply": "2022-11-13T05:35:22.173297Z",
     "shell.execute_reply.started": "2022-11-13T05:35:22.151919Z"
    },
    "id": "IrxZkvJnO-Bm"
   },
   "outputs": [],
   "source": [
    "# **DATA ANALYTICS PROJECT : OTTO – Multi-Objective Recommender System**"
   ]
  },
  {
   "cell_type": "markdown",
   "metadata": {
    "id": "yxPX-JrLPdP6"
   },
   "source": [
    "## Description of the compition and models used "
   ]
  },
  {
   "cell_type": "markdown",
   "metadata": {
    "id": "XdtpOVPlQ0gd"
   },
   "source": [
    "### Importing packages"
   ]
  },
  {
   "cell_type": "code",
   "execution_count": 2,
   "metadata": {
    "execution": {
     "iopub.execute_input": "2022-11-13T05:35:22.176307Z",
     "iopub.status.busy": "2022-11-13T05:35:22.175975Z",
     "iopub.status.idle": "2022-11-13T05:35:22.306597Z",
     "shell.execute_reply": "2022-11-13T05:35:22.305410Z",
     "shell.execute_reply.started": "2022-11-13T05:35:22.176275Z"
    },
    "id": "2rf033KFRBij"
   },
   "outputs": [],
   "source": [
    "import pandas as pd \n",
    "import numpy as np \n",
    "import matplotlib.pyplot as plt\n",
    "import datetime\n",
    "from tqdm.notebook import tqdm"
   ]
  },
  {
   "cell_type": "code",
   "execution_count": 3,
   "metadata": {
    "execution": {
     "iopub.execute_input": "2022-11-13T05:35:22.308346Z",
     "iopub.status.busy": "2022-11-13T05:35:22.307924Z",
     "iopub.status.idle": "2022-11-13T05:35:23.511923Z",
     "shell.execute_reply": "2022-11-13T05:35:23.510487Z",
     "shell.execute_reply.started": "2022-11-13T05:35:22.308315Z"
    }
   },
   "outputs": [],
   "source": [
    "from sklearn.model_selection import train_test_split"
   ]
  },
  {
   "cell_type": "code",
   "execution_count": null,
   "metadata": {},
   "outputs": [],
   "source": []
  },
  {
   "cell_type": "markdown",
   "metadata": {
    "id": "oyFm9EAY5nls"
   },
   "source": [
    "### Importing the data"
   ]
  },
  {
   "cell_type": "code",
   "execution_count": 4,
   "metadata": {
    "execution": {
     "iopub.execute_input": "2022-11-13T05:35:23.515596Z",
     "iopub.status.busy": "2022-11-13T05:35:23.515194Z",
     "iopub.status.idle": "2022-11-13T05:35:35.145913Z",
     "shell.execute_reply": "2022-11-13T05:35:35.144642Z",
     "shell.execute_reply.started": "2022-11-13T05:35:23.515562Z"
    },
    "id": "ZxI1F0KU_IVa"
   },
   "outputs": [],
   "source": [
    "train = pd.read_csv('../input/my-data/train (2).csv')\n",
    "test = pd.read_csv('../input/my-data/test (2).csv')"
   ]
  },
  {
   "cell_type": "code",
   "execution_count": 5,
   "metadata": {
    "execution": {
     "iopub.execute_input": "2022-11-13T05:35:35.148251Z",
     "iopub.status.busy": "2022-11-13T05:35:35.147792Z",
     "iopub.status.idle": "2022-11-13T05:35:35.160597Z",
     "shell.execute_reply": "2022-11-13T05:35:35.158837Z",
     "shell.execute_reply.started": "2022-11-13T05:35:35.148129Z"
    }
   },
   "outputs": [
    {
     "data": {
      "text/plain": [
       "((10285561, 5), (928115, 5))"
      ]
     },
     "execution_count": 5,
     "metadata": {},
     "output_type": "execute_result"
    }
   ],
   "source": [
    "train.shape,test.shape"
   ]
  },
  {
   "cell_type": "code",
   "execution_count": 6,
   "metadata": {
    "colab": {
     "base_uri": "https://localhost:8080/",
     "height": 0
    },
    "execution": {
     "iopub.execute_input": "2022-11-13T05:35:35.162536Z",
     "iopub.status.busy": "2022-11-13T05:35:35.162150Z",
     "iopub.status.idle": "2022-11-13T05:35:35.484420Z",
     "shell.execute_reply": "2022-11-13T05:35:35.483040Z",
     "shell.execute_reply.started": "2022-11-13T05:35:35.162502Z"
    },
    "id": "aCjFgiOW_ckS",
    "outputId": "df423d8c-19d4-4f47-9f3e-ee08284a929e"
   },
   "outputs": [],
   "source": [
    "train.drop(\"Unnamed: 0\",axis=1,inplace=True)"
   ]
  },
  {
   "cell_type": "code",
   "execution_count": 7,
   "metadata": {
    "colab": {
     "base_uri": "https://localhost:8080/",
     "height": 0
    },
    "execution": {
     "iopub.execute_input": "2022-11-13T05:35:35.486015Z",
     "iopub.status.busy": "2022-11-13T05:35:35.485669Z",
     "iopub.status.idle": "2022-11-13T05:35:35.521720Z",
     "shell.execute_reply": "2022-11-13T05:35:35.520353Z",
     "shell.execute_reply.started": "2022-11-13T05:35:35.485986Z"
    },
    "id": "JPnYXVkxB1q7",
    "outputId": "79fe901f-31b1-4991-bd45-63b0bbe13bdb"
   },
   "outputs": [],
   "source": [
    "test.drop(\"Unnamed: 0\",axis=1,inplace=True)"
   ]
  },
  {
   "cell_type": "markdown",
   "metadata": {},
   "source": [
    "Splitting the dataframe into 70 %training 30 % testing "
   ]
  },
  {
   "cell_type": "code",
   "execution_count": 8,
   "metadata": {
    "execution": {
     "iopub.execute_input": "2022-11-13T05:35:35.523808Z",
     "iopub.status.busy": "2022-11-13T05:35:35.523033Z",
     "iopub.status.idle": "2022-11-13T05:35:38.765111Z",
     "shell.execute_reply": "2022-11-13T05:35:38.763837Z",
     "shell.execute_reply.started": "2022-11-13T05:35:35.523767Z"
    }
   },
   "outputs": [
    {
     "data": {
      "text/plain": [
       "session      200000\n",
       "aid          951294\n",
       "ts         10132591\n",
       "type              3\n",
       "dtype: int64"
      ]
     },
     "execution_count": 8,
     "metadata": {},
     "output_type": "execute_result"
    }
   ],
   "source": [
    "## No of unique sessions\n",
    "train.nunique()"
   ]
  },
  {
   "cell_type": "code",
   "execution_count": 9,
   "metadata": {
    "execution": {
     "iopub.execute_input": "2022-11-13T05:35:38.767257Z",
     "iopub.status.busy": "2022-11-13T05:35:38.766792Z",
     "iopub.status.idle": "2022-11-13T05:35:38.776077Z",
     "shell.execute_reply": "2022-11-13T05:35:38.774581Z",
     "shell.execute_reply.started": "2022-11-13T05:35:38.767214Z"
    }
   },
   "outputs": [],
   "source": [
    "train_split=train.iloc[:7331864,:]\n",
    "test_split=train.iloc[7331864:,:]"
   ]
  },
  {
   "cell_type": "code",
   "execution_count": 10,
   "metadata": {
    "execution": {
     "iopub.execute_input": "2022-11-13T05:35:38.780841Z",
     "iopub.status.busy": "2022-11-13T05:35:38.780407Z",
     "iopub.status.idle": "2022-11-13T05:35:38.802685Z",
     "shell.execute_reply": "2022-11-13T05:35:38.801303Z",
     "shell.execute_reply.started": "2022-11-13T05:35:38.780807Z"
    }
   },
   "outputs": [
    {
     "data": {
      "text/html": [
       "<div>\n",
       "<style scoped>\n",
       "    .dataframe tbody tr th:only-of-type {\n",
       "        vertical-align: middle;\n",
       "    }\n",
       "\n",
       "    .dataframe tbody tr th {\n",
       "        vertical-align: top;\n",
       "    }\n",
       "\n",
       "    .dataframe thead th {\n",
       "        text-align: right;\n",
       "    }\n",
       "</style>\n",
       "<table border=\"1\" class=\"dataframe\">\n",
       "  <thead>\n",
       "    <tr style=\"text-align: right;\">\n",
       "      <th></th>\n",
       "      <th>session</th>\n",
       "      <th>aid</th>\n",
       "      <th>ts</th>\n",
       "      <th>type</th>\n",
       "    </tr>\n",
       "  </thead>\n",
       "  <tbody>\n",
       "    <tr>\n",
       "      <th>0</th>\n",
       "      <td>0</td>\n",
       "      <td>1517085</td>\n",
       "      <td>1659304800025</td>\n",
       "      <td>clicks</td>\n",
       "    </tr>\n",
       "    <tr>\n",
       "      <th>1</th>\n",
       "      <td>0</td>\n",
       "      <td>1563459</td>\n",
       "      <td>1659304904511</td>\n",
       "      <td>clicks</td>\n",
       "    </tr>\n",
       "    <tr>\n",
       "      <th>2</th>\n",
       "      <td>0</td>\n",
       "      <td>1309446</td>\n",
       "      <td>1659367439426</td>\n",
       "      <td>clicks</td>\n",
       "    </tr>\n",
       "    <tr>\n",
       "      <th>3</th>\n",
       "      <td>0</td>\n",
       "      <td>16246</td>\n",
       "      <td>1659367719997</td>\n",
       "      <td>clicks</td>\n",
       "    </tr>\n",
       "    <tr>\n",
       "      <th>4</th>\n",
       "      <td>0</td>\n",
       "      <td>1781822</td>\n",
       "      <td>1659367871344</td>\n",
       "      <td>clicks</td>\n",
       "    </tr>\n",
       "    <tr>\n",
       "      <th>...</th>\n",
       "      <td>...</td>\n",
       "      <td>...</td>\n",
       "      <td>...</td>\n",
       "      <td>...</td>\n",
       "    </tr>\n",
       "    <tr>\n",
       "      <th>7331859</th>\n",
       "      <td>139999</td>\n",
       "      <td>269200</td>\n",
       "      <td>1660804010508</td>\n",
       "      <td>clicks</td>\n",
       "    </tr>\n",
       "    <tr>\n",
       "      <th>7331860</th>\n",
       "      <td>139999</td>\n",
       "      <td>734876</td>\n",
       "      <td>1660804124988</td>\n",
       "      <td>clicks</td>\n",
       "    </tr>\n",
       "    <tr>\n",
       "      <th>7331861</th>\n",
       "      <td>139999</td>\n",
       "      <td>1499541</td>\n",
       "      <td>1661149361690</td>\n",
       "      <td>clicks</td>\n",
       "    </tr>\n",
       "    <tr>\n",
       "      <th>7331862</th>\n",
       "      <td>139999</td>\n",
       "      <td>1623295</td>\n",
       "      <td>1661597051499</td>\n",
       "      <td>clicks</td>\n",
       "    </tr>\n",
       "    <tr>\n",
       "      <th>7331863</th>\n",
       "      <td>139999</td>\n",
       "      <td>100229</td>\n",
       "      <td>1661597121538</td>\n",
       "      <td>clicks</td>\n",
       "    </tr>\n",
       "  </tbody>\n",
       "</table>\n",
       "<p>7331864 rows × 4 columns</p>\n",
       "</div>"
      ],
      "text/plain": [
       "         session      aid             ts    type\n",
       "0              0  1517085  1659304800025  clicks\n",
       "1              0  1563459  1659304904511  clicks\n",
       "2              0  1309446  1659367439426  clicks\n",
       "3              0    16246  1659367719997  clicks\n",
       "4              0  1781822  1659367871344  clicks\n",
       "...          ...      ...            ...     ...\n",
       "7331859   139999   269200  1660804010508  clicks\n",
       "7331860   139999   734876  1660804124988  clicks\n",
       "7331861   139999  1499541  1661149361690  clicks\n",
       "7331862   139999  1623295  1661597051499  clicks\n",
       "7331863   139999   100229  1661597121538  clicks\n",
       "\n",
       "[7331864 rows x 4 columns]"
      ]
     },
     "execution_count": 10,
     "metadata": {},
     "output_type": "execute_result"
    }
   ],
   "source": [
    "train_split"
   ]
  },
  {
   "cell_type": "code",
   "execution_count": null,
   "metadata": {},
   "outputs": [],
   "source": [
    "import warnings\n",
    "warnings.filterwarnings('ignore')\n",
    "import pathlib\n",
    "import seaborn as sns"
   ]
  },
  {
   "cell_type": "markdown",
   "metadata": {
    "id": "iLNcWHfMN9JJ"
   },
   "source": [
    "### EXPLORATORY DATA ANALYSIS"
   ]
  },
  {
   "cell_type": "markdown",
   "metadata": {
    "id": "aLCI6icQNhG7"
   },
   "source": [
    "#### 1. Looking for NA values"
   ]
  },
  {
   "cell_type": "code",
   "execution_count": 11,
   "metadata": {
    "colab": {
     "base_uri": "https://localhost:8080/"
    },
    "execution": {
     "iopub.execute_input": "2022-11-13T05:35:38.805959Z",
     "iopub.status.busy": "2022-11-13T05:35:38.805445Z",
     "iopub.status.idle": "2022-11-13T05:35:39.295611Z",
     "shell.execute_reply": "2022-11-13T05:35:39.294468Z",
     "shell.execute_reply.started": "2022-11-13T05:35:38.805913Z"
    },
    "id": "h-b4JnibACYg",
    "outputId": "2bf2c4a6-4e56-497f-bb62-0013fb2dcd77"
   },
   "outputs": [
    {
     "data": {
      "text/plain": [
       "session    0\n",
       "aid        0\n",
       "ts         0\n",
       "type       0\n",
       "dtype: int64"
      ]
     },
     "execution_count": 11,
     "metadata": {},
     "output_type": "execute_result"
    }
   ],
   "source": [
    "train.isnull().sum()"
   ]
  },
  {
   "cell_type": "code",
   "execution_count": 12,
   "metadata": {
    "colab": {
     "base_uri": "https://localhost:8080/"
    },
    "execution": {
     "iopub.execute_input": "2022-11-13T05:35:39.297718Z",
     "iopub.status.busy": "2022-11-13T05:35:39.297074Z",
     "iopub.status.idle": "2022-11-13T05:35:39.350813Z",
     "shell.execute_reply": "2022-11-13T05:35:39.349400Z",
     "shell.execute_reply.started": "2022-11-13T05:35:39.297679Z"
    },
    "id": "AEv01_5RAQnO",
    "outputId": "050cfa74-d3ac-4816-bc5d-141a8a57c947"
   },
   "outputs": [
    {
     "data": {
      "text/plain": [
       "session    0\n",
       "aid        0\n",
       "ts         0\n",
       "type       0\n",
       "dtype: int64"
      ]
     },
     "execution_count": 12,
     "metadata": {},
     "output_type": "execute_result"
    }
   ],
   "source": [
    "test.isnull().sum()"
   ]
  },
  {
   "cell_type": "markdown",
   "metadata": {
    "id": "ffmTqhYCAVb6"
   },
   "source": [
    "Thus we have no missing values"
   ]
  },
  {
   "cell_type": "markdown",
   "metadata": {
    "id": "g7lfCSkLNlem"
   },
   "source": [
    "####  Description of the data"
   ]
  },
  {
   "cell_type": "markdown",
   "metadata": {
    "id": "RWVbosF6CIII"
   },
   "source": [
    "The train data contains data about user sessions and what happened in those sessions ordered by a timestamp the type of action which occured is either a \"click\" or \"cart\" i.e the article reffered in article id was added to cart or \"order\" i.e the article id was ordered"
   ]
  },
  {
   "cell_type": "markdown",
   "metadata": {
    "id": "C7bo5lSKCqBQ"
   },
   "source": [
    "The test data is truncated by a timestamp i.e the session is shorter and we are to predict what happens after a particular timestamp"
   ]
  },
  {
   "cell_type": "markdown",
   "metadata": {
    "id": "uvRkHxbAG3K6"
   },
   "source": [
    "Thus the data belongs mostly to july august of this year "
   ]
  },
  {
   "cell_type": "markdown",
   "metadata": {
    "id": "2oiLgcW1ODLd"
   },
   "source": [
    "#### SHAPE OF DATASET"
   ]
  },
  {
   "cell_type": "code",
   "execution_count": null,
   "metadata": {},
   "outputs": [],
   "source": [
    "dataset_directory = pathlib.Path('../input/otto-multi-objective-recommender-system-pickle')\n",
    "df_train = pd.read_pickle(dataset_directory / 'train.pkl')\n",
    "df_test = pd.read_pickle(dataset_directory / 'test.pkl')\n",
    "\n",
    "print(f'Training Shape: {df_train.shape}')\n",
    "print(f'Test Shape: {df_test.shape}')"
   ]
  },
  {
   "cell_type": "markdown",
   "metadata": {},
   "source": [
    "Sessions consist of user events such as clicking to a product, adding a product to cart or ordering a product. Each session belongs to a unique user and duration of sessions are different from each other.\n",
    "\n",
    "session: unique ID of the user session\n",
    "aid: unique ID of the product\n",
    "ts: timestamp of the event\n",
    "type: category of the event\n",
    "\n",
    "It is a multi-objective ranking problem since there are 3 categories (click, cart, order) to recommend for each session"
   ]
  },
  {
   "cell_type": "code",
   "execution_count": null,
   "metadata": {},
   "outputs": [],
   "source": [
    "train_events = df_train.shape[0]\n",
    "test_events = df_test.shape[0]\n",
    "print(f'Number of Events - Training: {train_events} | Test: {test_events}')\n",
    "\n",
    "train_unique_sessions = df_train['session'].unique()\n",
    "test_unique_sessions = df_test['session'].unique()\n",
    "print(f'Number of Unique Sessions - Training: {len(train_unique_sessions)} | Test: {len(test_unique_sessions)}')\n",
    "del train_unique_sessions, test_unique_sessions\n",
    "\n",
    "train_unique_aids = df_train['aid'].unique()\n",
    "test_unique_aids = df_test['aid'].unique()\n",
    "overlapping_aids = set(train_unique_aids).intersection(set(test_unique_aids))\n",
    "print(f'Number of Unique Products - Training: {len(train_unique_aids)} | Test: {len(test_unique_aids)} - ({len(overlapping_aids)} Overlapping Products)')\n",
    "del train_unique_aids, test_unique_aids, overlapping_aids\n",
    "\n",
    "train_clicks = df_train[df_train['type'] == 0].shape[0]\n",
    "test_clicks = df_test[df_test['type'] == 0].shape[0]\n",
    "print(f'Number of Clicks - Training: {train_clicks} | Test: {test_clicks}')\n",
    "\n",
    "train_carts = df_train[df_train['type'] == 1].shape[0]\n",
    "test_carts = df_test[df_test['type'] == 1].shape[0]\n",
    "print(f'Number of Carts - Training: {train_carts} | Test: {test_carts}')\n",
    "\n",
    "train_orders = df_train[df_train['type'] == 2].shape[0]\n",
    "test_orders = df_test[df_test['type'] == 2].shape[0]\n",
    "print(f'Number of Orders - Training: {train_orders} | Test: {test_orders}')"
   ]
  },
  {
   "cell_type": "code",
   "execution_count": null,
   "metadata": {},
   "outputs": [],
   "source": [
    "train_start = df_train['ts'].min().strftime('%Y.%m.%d %X')\n",
    "train_end = df_train['ts'].max().strftime('%Y.%m.%d %X')\n",
    "test_start = df_test['ts'].min().strftime('%Y.%m.%d %X')\n",
    "test_end = df_test['ts'].max().strftime('%Y.%m.%d %X')\n",
    "print(f'Events Time Range\\nTraining: {train_start} - {train_end}\\nTest: {test_start} - {test_end}')"
   ]
  },
  {
   "cell_type": "markdown",
   "metadata": {},
   "source": [
    "the training data is for a period of 4 weeks and test data for 1 week"
   ]
  },
  {
   "cell_type": "code",
   "execution_count": null,
   "metadata": {},
   "outputs": [],
   "source": [
    "def visualize_categorical_feature_distribution(df, feature, path=None):\n",
    "    fig, ax = plt.subplots(figsize=(24, df[feature].value_counts().shape[0] + 4), dpi=100)\n",
    "    sns.barplot(\n",
    "        y=df[feature].value_counts().values,\n",
    "        x=df[feature].value_counts().index,\n",
    "        color='tab:blue',\n",
    "        ax=ax\n",
    "    )\n",
    "    ax.set_xlabel('')\n",
    "    ax.set_ylabel('')\n",
    "    ax.set_xticklabels([\n",
    "        f'{x} ({value_count:,})' for value_count, x in zip(\n",
    "            df[feature].value_counts().values,\n",
    "            df[feature].value_counts().index\n",
    "        )\n",
    "    ])\n",
    "    ax.tick_params(axis='x', labelsize=15, pad=10)\n",
    "    ax.tick_params(axis='y', labelsize=15, pad=10)\n",
    "    ax.set_title(f'Value Counts {feature}', size=20, pad=15)\n",
    "\n",
    "    if path is None:\n",
    "        plt.show()\n",
    "    else:\n",
    "        plt.savefig(path)\n",
    "        plt.close(fig)\n",
    "\n",
    "\n",
    "visualize_categorical_feature_distribution(df=df_train, feature='type')\n",
    "visualize_categorical_feature_distribution(df=df_test, feature='type')"
   ]
  },
  {
   "cell_type": "markdown",
   "metadata": {},
   "source": [
    "0:CLICKS\n",
    "1:CART\n",
    "2:ORDERS"
   ]
  },
  {
   "cell_type": "code",
   "execution_count": null,
   "metadata": {},
   "outputs": [],
   "source": [
    "df_train_session_counts = df_train.groupby('session')[['session']].count()\n",
    "df_test_session_counts = df_test.groupby('session')[['session']].count()\n",
    "\n",
    "df_train_aid_counts = df_train.groupby('aid')[['aid']].count()\n",
    "df_test_aid_counts = df_test.groupby('aid')[['aid']].count()\n",
    "\n",
    "df_train_aid_counts = df_train_aid_counts.rename(columns={'aid': 'count'}).reset_index()\n",
    "df_test_aid_counts = df_test_aid_counts.rename(columns={'aid': 'count'}).reset_index()\n",
    "\n",
    "df_all_aid_counts = pd.concat((df_train_aid_counts, df_test_aid_counts), axis=0, ignore_index=True).reset_index(drop=True)\n",
    "df_all_aid_counts = df_all_aid_counts.groupby('aid')['count'].sum().reset_index()\n",
    "\n",
    "df_train_aid_counts.sort_values(by='count', ascending=False, inplace=True)\n",
    "df_test_aid_counts.sort_values(by='count', ascending=False, inplace=True)\n",
    "df_all_aid_counts.sort_values(by='count', ascending=False, inplace=True)\n",
    "\n",
    "train_20_most_frequent_aids = df_train_aid_counts.set_index('aid').head(20).to_dict()['count']\n",
    "test_20_most_frequent_aids = df_test_aid_counts.set_index('aid').head(20).to_dict()['count']\n",
    "all_20_most_frequent_aids = df_all_aid_counts.set_index('aid').head(20).to_dict()['count']\n",
    "\n",
    "del df_train_aid_counts, df_test_aid_counts, df_all_aid_counts"
   ]
  },
  {
   "cell_type": "markdown",
   "metadata": {},
   "source": [
    "Top 20 most frequent products are visualized for training, test and training + test sets below. X axis is the frequency and y axis labels are aid and its frequency "
   ]
  },
  {
   "cell_type": "code",
   "execution_count": null,
   "metadata": {},
   "outputs": [],
   "source": [
    "def visualize_prod_frequencies(aid_frequencies, title, path=None):\n",
    "    fig, ax = plt.subplots(figsize=(24, 20), dpi=100)\n",
    "    ax.barh(range(len(aid_frequencies)), aid_frequencies.values(), align='center')\n",
    "    ax.set_xlabel('')\n",
    "    ax.set_ylabel('')\n",
    "    ax.set_yticks(range(len(aid_frequencies)))\n",
    "    ax.set_yticklabels([f'{x} ({value_count:,})' for x, value_count in aid_frequencies.items()])\n",
    "    ax.tick_params(axis='x', labelsize=15, pad=10)\n",
    "    ax.tick_params(axis='y', labelsize=15, pad=10)\n",
    "    ax.set_title(title, size=20, pad=15)\n",
    "    plt.gca().invert_yaxis()\n",
    "\n",
    "    if path is None:\n",
    "        plt.show()\n",
    "    else:\n",
    "        plt.savefig(path)\n",
    "        plt.close(fig)\n",
    "    "
   ]
  },
  {
   "cell_type": "code",
   "execution_count": null,
   "metadata": {},
   "outputs": [],
   "source": [
    "visualize_prod_frequencies(\n",
    "    aid_frequencies=train_20_most_frequent_aids,\n",
    "    title='Top 20 Most Frequent PRODUCTS in Training Set'\n",
    ")\n",
    "visualize_prod_frequencies(\n",
    "    aid_frequencies=test_20_most_frequent_aids,\n",
    "    title='Top 20 Most Frequent PRODUCTS in Test Set'\n",
    ")\n",
    "visualize_prod_frequencies(\n",
    "    aid_frequencies=all_20_most_frequent_aids,\n",
    "    title='Top 20 Most Frequent PRODUCTS in Training + Test Set'\n",
    ")\n"
   ]
  },
  {
   "cell_type": "code",
   "execution_count": null,
   "metadata": {},
   "outputs": [],
   "source": [
    "df_train_aids_by_types  = df_train.groupby(['type', 'aid'])[['aid']].count()\n",
    "df_test_aids_by_types  = df_test.groupby(['type', 'aid'])[['aid']].count()\n",
    "\n",
    "df_train_click_aid_counts = df_train_aids_by_types.loc[0].rename(columns={'aid': 'count'}).reset_index()\n",
    "df_train_cart_aid_counts = df_train_aids_by_types.loc[1].rename(columns={'aid': 'count'}).reset_index()\n",
    "df_train_order_aid_counts = df_train_aids_by_types.loc[2].rename(columns={'aid': 'count'}).reset_index()\n",
    "\n",
    "df_test_click_aid_counts = df_test_aids_by_types.loc[0].rename(columns={'aid': 'count'}).reset_index()\n",
    "df_test_cart_aid_counts = df_test_aids_by_types.loc[1].rename(columns={'aid': 'count'}).reset_index()\n",
    "df_test_order_aid_counts = df_test_aids_by_types.loc[2].rename(columns={'aid': 'count'}).reset_index()\n",
    "\n",
    "df_all_click_aid_counts = pd.concat((df_train_click_aid_counts, df_test_click_aid_counts), axis=0, ignore_index=True).reset_index(drop=True)\n",
    "df_all_click_aid_counts = df_all_click_aid_counts.groupby('aid')['count'].sum().reset_index()\n",
    "\n",
    "df_all_cart_aid_counts = pd.concat((df_train_cart_aid_counts, df_test_cart_aid_counts), axis=0, ignore_index=True).reset_index(drop=True)\n",
    "df_all_cart_aid_counts = df_all_cart_aid_counts.groupby('aid')['count'].sum().reset_index()\n",
    "\n",
    "df_all_order_aid_counts = pd.concat((df_train_order_aid_counts, df_test_order_aid_counts), axis=0, ignore_index=True).reset_index(drop=True)\n",
    "df_all_order_aid_counts = df_all_order_aid_counts.groupby('aid')['count'].sum().reset_index()"
   ]
  },
  {
   "cell_type": "code",
   "execution_count": null,
   "metadata": {},
   "outputs": [],
   "source": [
    "df_train_click_aid_counts.sort_values(by='count', ascending=False, inplace=True)\n",
    "df_test_click_aid_counts.sort_values(by='count', ascending=False, inplace=True)\n",
    "df_all_click_aid_counts.sort_values(by='count', ascending=False, inplace=True)\n",
    "\n",
    "df_train_cart_aid_counts.sort_values(by='count', ascending=False, inplace=True)\n",
    "df_test_cart_aid_counts.sort_values(by='count', ascending=False, inplace=True)\n",
    "df_all_cart_aid_counts.sort_values(by='count', ascending=False, inplace=True)\n",
    "\n",
    "df_train_order_aid_counts.sort_values(by='count', ascending=False, inplace=True)\n",
    "df_test_order_aid_counts.sort_values(by='count', ascending=False, inplace=True)\n",
    "df_all_order_aid_counts.sort_values(by='count', ascending=False, inplace=True)\n",
    "\n",
    "train_20_most_frequent_click_aids = df_train_click_aid_counts.set_index('aid').head(20).to_dict()['count']\n",
    "test_20_most_frequent_click_aids = df_test_click_aid_counts.set_index('aid').head(20).to_dict()['count']\n",
    "all_20_most_frequent_click_aids = df_all_click_aid_counts.set_index('aid').head(20).to_dict()['count']\n",
    "\n",
    "train_20_most_frequent_cart_aids = df_train_cart_aid_counts.set_index('aid').head(20).to_dict()['count']\n",
    "test_20_most_frequent_cart_aids = df_test_cart_aid_counts.set_index('aid').head(20).to_dict()['count']\n",
    "all_20_most_frequent_cart_aids = df_all_cart_aid_counts.set_index('aid').head(20).to_dict()['count']\n",
    "\n",
    "train_20_most_frequent_order_aids = df_train_order_aid_counts.set_index('aid').head(20).to_dict()['count']\n",
    "test_20_most_frequent_order_aids = df_test_order_aid_counts.set_index('aid').head(20).to_dict()['count']\n",
    "all_20_most_frequent_order_aids = df_all_order_aid_counts.set_index('aid').head(20).to_dict()['count']"
   ]
  },
  {
   "cell_type": "markdown",
   "metadata": {},
   "source": [
    "Top 20 most frequent clicked products are visualized for training, test and training + test sets below. X axis is the frequency and y axis labels are aid and its frequency"
   ]
  },
  {
   "cell_type": "code",
   "execution_count": null,
   "metadata": {},
   "outputs": [],
   "source": [
    "visualize_prod_frequencies(\n",
    "    aid_frequencies=train_20_most_frequent_click_aids,\n",
    "    title='Top 20 Most Frequent click products in Training Set'\n",
    ")\n",
    "visualize_prod_frequencies(\n",
    "    aid_frequencies=test_20_most_frequent_click_aids,\n",
    "    title='Top 20 Most Frequent click products in Test Set'\n",
    ")\n",
    "visualize_prod_frequencies(\n",
    "    aid_frequencies=all_20_most_frequent_click_aids,\n",
    "    title='Top 20 Most Frequent click products in Training + Test Set'\n",
    ")"
   ]
  },
  {
   "cell_type": "markdown",
   "metadata": {},
   "source": [
    "Top 20 most frequent carted products are visualized for training, test and training + test sets below. X axis is the frequency and y axis labels are aid and its frequency"
   ]
  },
  {
   "cell_type": "code",
   "execution_count": null,
   "metadata": {},
   "outputs": [],
   "source": [
    "visualize_prod_frequencies(\n",
    "    aid_frequencies=train_20_most_frequent_cart_aids,\n",
    "    title='Top 20 Most Frequent cart products in Training Set'\n",
    ")\n",
    "visualize_prod_frequencies(\n",
    "    aid_frequencies=test_20_most_frequent_cart_aids,\n",
    "    title='Top 20 Most Frequent cart products in Test Set'\n",
    ")\n",
    "visualize_prod_frequencies(\n",
    "    aid_frequencies=all_20_most_frequent_cart_aids,\n",
    "    title='Top 20 Most Frequent cart products in Training + Test Set'\n",
    ")"
   ]
  },
  {
   "cell_type": "markdown",
   "metadata": {},
   "source": [
    "Top 20 most frequent ordered products are visualized for training, test and training + test sets below. X axis is the frequency and y axis labels are aid and its frequency"
   ]
  },
  {
   "cell_type": "code",
   "execution_count": null,
   "metadata": {},
   "outputs": [],
   "source": [
    "visualize_prod_frequencies(\n",
    "    aid_frequencies=train_20_most_frequent_order_aids,\n",
    "    title='Top 20 Most Frequent order aids in Training Set'\n",
    ")\n",
    "visualize_prod_frequencies(\n",
    "    aid_frequencies=test_20_most_frequent_order_aids,\n",
    "    title='Top 20 Most Frequent order aids in Test Set'\n",
    ")\n",
    "visualize_prod_frequencies(\n",
    "    aid_frequencies=all_20_most_frequent_order_aids,\n",
    "    title='Top 20 Most Frequent order aids in Training + Test Set'\n",
    ")"
   ]
  },
  {
   "cell_type": "code",
   "execution_count": null,
   "metadata": {},
   "outputs": [],
   "source": [
    "train_session_type_groupby = df_train.groupby(['session', 'type'])\n",
    "df_train_sessions_types = train_session_type_groupby[['session']].count().rename(columns={'session': 'count'}).reset_index()\n",
    "df_train_sessions_types['total'] = df_train_sessions_types.groupby('session')['count'].transform('sum')\n",
    "df_train_sessions_types.sort_values(by=['total', 'session', 'type'], ascending=False, inplace=True)\n",
    "df_train_sessions_types['rate'] = df_train_sessions_types['count'] / df_train_sessions_types['total']\n",
    "df_train_sessions_type_rate_means = df_train_sessions_types.groupby('type')['rate'].mean().to_dict()\n",
    "df_train_sessions_type_rate_stds = df_train_sessions_types.groupby('type')['rate'].std().to_dict()\n",
    "\n",
    "test_session_type_groupby = df_test.groupby(['session', 'type'])\n",
    "df_test_sessions_types = test_session_type_groupby[['session']].count().rename(columns={'session': 'count'}).reset_index()\n",
    "df_test_sessions_types['total'] = df_test_sessions_types.groupby('session')['count'].transform('sum')\n",
    "df_test_sessions_types.sort_values(by=['total', 'session', 'type'], ascending=False, inplace=True)\n",
    "df_test_sessions_types['rate'] = df_test_sessions_types['count'] / df_test_sessions_types['total']\n",
    "df_test_sessions_type_rate_means = df_test_sessions_types.groupby('type')['rate'].mean().to_dict()\n",
    "df_test_sessions_type_rate_stds = df_test_sessions_types.groupby('type')['rate'].std().to_dict()\n",
    "\n",
    "# calculating mean and standard deviation of the different events in train and test data "
   ]
  },
  {
   "cell_type": "code",
   "execution_count": null,
   "metadata": {},
   "outputs": [],
   "source": [
    "print(\n",
    "f'''\n",
    "Training: 0: {df_train_sessions_type_rate_means[0]:.4f}(±{df_train_sessions_type_rate_stds[0]:.4f}) | 1: {df_train_sessions_type_rate_means[1]:.4f}(±{df_train_sessions_type_rate_stds[1]:.4f}) | 2: {df_train_sessions_type_rate_means[2]:.4f}(±{df_train_sessions_type_rate_stds[2]:.4f})\n",
    "Test: 0: {df_test_sessions_type_rate_means[0]:.4f}(±{df_test_sessions_type_rate_stds[0]:.4f}) | 1: {df_test_sessions_type_rate_means[1]:.4f}(±{df_test_sessions_type_rate_stds[1]:.4f}) | 2: {df_test_sessions_type_rate_means[2]:.4f}(±{df_test_sessions_type_rate_stds[2]:.4f})\n",
    "'''\n",
    ")\n",
    "del df_train_sessions_type_rate_means, df_train_sessions_type_rate_stds, df_test_sessions_type_rate_means, df_test_sessions_type_rate_stds"
   ]
  },
  {
   "cell_type": "markdown",
   "metadata": {},
   "source": [
    "A natural sequence is clicking to a product, adding it to the cart and ordering it. It can be seen from the visualization of session 3 below that cart events lead to order events multiple times. However, this doesn't apply to all sessions."
   ]
  },
  {
   "cell_type": "code",
   "execution_count": null,
   "metadata": {},
   "outputs": [],
   "source": [
    "def visualize_session(df, session, path=None):\n",
    "    df_session = df.loc[df['session'] == session, :]\n",
    "    \n",
    "    fig, ax = plt.subplots(figsize=(24, 6))\n",
    "    ax.plot(df_session.set_index('ts')['type'], 'o-')\n",
    "    ax.set_yticks(range(3), ['Click (0)', 'Cart (1)', 'Order (2)'])\n",
    "    ax.tick_params(axis='x', labelsize=12.5)\n",
    "    ax.tick_params(axis='y', labelsize=12.5)\n",
    "    ax.set_xlabel('Timestamps', fontsize=15, labelpad=12.5)\n",
    "    ax.set_ylabel('Events', fontsize=15, labelpad=12.5)\n",
    "    title = f'''\n",
    "    Session: {session}\n",
    "    Clicks: {(df_session['type'] == 0).sum()} \\n  Carts: {(df_session['type'] == 1).sum()} \\n Orders: {(df_session['type'] == 2).sum()}\n",
    "    '''\n",
    "    ax.set_title(title, size=20, pad=15)\n",
    "    \n",
    "    if path is None:\n",
    "        plt.show()\n",
    "    else:\n",
    "        plt.savefig(path)\n",
    "        plt.close(fig)\n",
    "\n",
    "\n",
    "visualize_session(df=df_train, session=3)\n",
    "visualize_session(df=df_train, session=39) # starts with carts \n",
    "visualize_session(df=df_train, session=747) # start with order"
   ]
  },
  {
   "cell_type": "markdown",
   "metadata": {},
   "source": [
    "Ground-truth of both training and test set can be created as long as a session has more than 1 timesteps. Ground-truth of clicks and other events are created differently. Ground-truth click of a timestep is the next click in that session. Ground-truth of carts or orders of a timestep is the collection of all next unique carts or orders in that session."
   ]
  },
  {
   "cell_type": "markdown",
   "metadata": {},
   "source": [
    "###### GROUND TRUTH "
   ]
  },
  {
   "cell_type": "code",
   "execution_count": null,
   "metadata": {},
   "outputs": [],
   "source": [
    "def get_labels(aids, event_types):\n",
    "    previous_click = None\n",
    "    previous_carts = set()\n",
    "    previous_orders = set()\n",
    "    labels = []\n",
    "\n",
    "    for aid, event_type in zip(reversed(aids.values), reversed(event_types.values)):\n",
    "        \n",
    "        label = {}\n",
    "        \n",
    "        if event_type == 0:\n",
    "            previous_click = aid\n",
    "        elif event_type == 1:\n",
    "            previous_carts.add(aid)\n",
    "        elif event_type == 2:\n",
    "            previous_orders.add(aid)\n",
    "            \n",
    "        label[0] = previous_click \n",
    "        label[1] = previous_carts.copy() if len(previous_carts) > 0 else np.nan\n",
    "        label[2] = previous_orders.copy() if len(previous_orders) > 0 else np.nan\n",
    "        labels.append(label)\n",
    "        \n",
    "    labels = labels[:-1][::-1]\n",
    "    labels.append({0: np.nan, 1: np.nan, 2: np.nan})\n",
    "    \n",
    "    return labels"
   ]
  },
  {
   "cell_type": "code",
   "execution_count": null,
   "metadata": {},
   "outputs": [],
   "source": [
    "df_session747 = df_train.loc[df_train['session'] == 747, :]\n",
    "session747_labels = get_labels(aids=df_session747['aid'], event_types=df_session747['type'])\n",
    "df_session747.loc[:, 'label'] = session747_labels\n",
    "df_session747"
   ]
  },
  {
   "cell_type": "markdown",
   "metadata": {},
   "source": [
    "Labels of session 747 are extracted with the function above. It can be seen that after a cart or order event, corresponding aid is dropped from the labels."
   ]
  },
  {
   "cell_type": "markdown",
   "metadata": {
    "id": "c74saw_uOLSZ"
   },
   "source": [
    "### MODELING THE DATA"
   ]
  },
  {
   "cell_type": "markdown",
   "metadata": {
    "id": "YeRfmse7OWmG"
   },
   "source": [
    "#### MODEL 1 (absolutely simple)(wordtovec),(glove)?"
   ]
  },
  {
   "cell_type": "code",
   "execution_count": 16,
   "metadata": {
    "execution": {
     "iopub.execute_input": "2022-11-13T05:35:39.397187Z",
     "iopub.status.busy": "2022-11-13T05:35:39.395807Z",
     "iopub.status.idle": "2022-11-13T05:35:39.885097Z",
     "shell.execute_reply": "2022-11-13T05:35:39.883875Z",
     "shell.execute_reply.started": "2022-11-13T05:35:39.397133Z"
    },
    "id": "OfytlZ-bVmNl"
   },
   "outputs": [],
   "source": [
    "from gensim.models import word2vec\n",
    "from gensim.models import KeyedVectors"
   ]
  },
  {
   "cell_type": "code",
   "execution_count": 17,
   "metadata": {
    "execution": {
     "iopub.execute_input": "2022-11-13T05:35:39.887123Z",
     "iopub.status.busy": "2022-11-13T05:35:39.886687Z",
     "iopub.status.idle": "2022-11-13T05:35:40.232013Z",
     "shell.execute_reply": "2022-11-13T05:35:40.230946Z",
     "shell.execute_reply.started": "2022-11-13T05:35:39.887036Z"
    }
   },
   "outputs": [],
   "source": [
    "total=pd.concat([train,test],axis=0)"
   ]
  },
  {
   "cell_type": "code",
   "execution_count": 18,
   "metadata": {
    "execution": {
     "iopub.execute_input": "2022-11-13T05:35:40.234472Z",
     "iopub.status.busy": "2022-11-13T05:35:40.233697Z",
     "iopub.status.idle": "2022-11-13T05:35:40.251417Z",
     "shell.execute_reply": "2022-11-13T05:35:40.250132Z",
     "shell.execute_reply.started": "2022-11-13T05:35:40.234423Z"
    }
   },
   "outputs": [
    {
     "data": {
      "text/html": [
       "<div>\n",
       "<style scoped>\n",
       "    .dataframe tbody tr th:only-of-type {\n",
       "        vertical-align: middle;\n",
       "    }\n",
       "\n",
       "    .dataframe tbody tr th {\n",
       "        vertical-align: top;\n",
       "    }\n",
       "\n",
       "    .dataframe thead th {\n",
       "        text-align: right;\n",
       "    }\n",
       "</style>\n",
       "<table border=\"1\" class=\"dataframe\">\n",
       "  <thead>\n",
       "    <tr style=\"text-align: right;\">\n",
       "      <th></th>\n",
       "      <th>session</th>\n",
       "      <th>aid</th>\n",
       "      <th>ts</th>\n",
       "      <th>type</th>\n",
       "    </tr>\n",
       "  </thead>\n",
       "  <tbody>\n",
       "    <tr>\n",
       "      <th>0</th>\n",
       "      <td>0</td>\n",
       "      <td>1517085</td>\n",
       "      <td>1659304800025</td>\n",
       "      <td>clicks</td>\n",
       "    </tr>\n",
       "    <tr>\n",
       "      <th>1</th>\n",
       "      <td>0</td>\n",
       "      <td>1563459</td>\n",
       "      <td>1659304904511</td>\n",
       "      <td>clicks</td>\n",
       "    </tr>\n",
       "    <tr>\n",
       "      <th>2</th>\n",
       "      <td>0</td>\n",
       "      <td>1309446</td>\n",
       "      <td>1659367439426</td>\n",
       "      <td>clicks</td>\n",
       "    </tr>\n",
       "    <tr>\n",
       "      <th>3</th>\n",
       "      <td>0</td>\n",
       "      <td>16246</td>\n",
       "      <td>1659367719997</td>\n",
       "      <td>clicks</td>\n",
       "    </tr>\n",
       "    <tr>\n",
       "      <th>4</th>\n",
       "      <td>0</td>\n",
       "      <td>1781822</td>\n",
       "      <td>1659367871344</td>\n",
       "      <td>clicks</td>\n",
       "    </tr>\n",
       "    <tr>\n",
       "      <th>...</th>\n",
       "      <td>...</td>\n",
       "      <td>...</td>\n",
       "      <td>...</td>\n",
       "      <td>...</td>\n",
       "    </tr>\n",
       "    <tr>\n",
       "      <th>928110</th>\n",
       "      <td>13099776</td>\n",
       "      <td>1159407</td>\n",
       "      <td>1661844072138</td>\n",
       "      <td>clicks</td>\n",
       "    </tr>\n",
       "    <tr>\n",
       "      <th>928111</th>\n",
       "      <td>13099776</td>\n",
       "      <td>546448</td>\n",
       "      <td>1661844142618</td>\n",
       "      <td>clicks</td>\n",
       "    </tr>\n",
       "    <tr>\n",
       "      <th>928112</th>\n",
       "      <td>13099777</td>\n",
       "      <td>468584</td>\n",
       "      <td>1661795832787</td>\n",
       "      <td>clicks</td>\n",
       "    </tr>\n",
       "    <tr>\n",
       "      <th>928113</th>\n",
       "      <td>13099778</td>\n",
       "      <td>926609</td>\n",
       "      <td>1661795832939</td>\n",
       "      <td>clicks</td>\n",
       "    </tr>\n",
       "    <tr>\n",
       "      <th>928114</th>\n",
       "      <td>13099778</td>\n",
       "      <td>1025490</td>\n",
       "      <td>1661795863820</td>\n",
       "      <td>clicks</td>\n",
       "    </tr>\n",
       "  </tbody>\n",
       "</table>\n",
       "<p>11213676 rows × 4 columns</p>\n",
       "</div>"
      ],
      "text/plain": [
       "         session      aid             ts    type\n",
       "0              0  1517085  1659304800025  clicks\n",
       "1              0  1563459  1659304904511  clicks\n",
       "2              0  1309446  1659367439426  clicks\n",
       "3              0    16246  1659367719997  clicks\n",
       "4              0  1781822  1659367871344  clicks\n",
       "...          ...      ...            ...     ...\n",
       "928110  13099776  1159407  1661844072138  clicks\n",
       "928111  13099776   546448  1661844142618  clicks\n",
       "928112  13099777   468584  1661795832787  clicks\n",
       "928113  13099778   926609  1661795832939  clicks\n",
       "928114  13099778  1025490  1661795863820  clicks\n",
       "\n",
       "[11213676 rows x 4 columns]"
      ]
     },
     "execution_count": 18,
     "metadata": {},
     "output_type": "execute_result"
    }
   ],
   "source": [
    "total"
   ]
  },
  {
   "cell_type": "code",
   "execution_count": 19,
   "metadata": {
    "execution": {
     "iopub.execute_input": "2022-11-13T05:35:40.253634Z",
     "iopub.status.busy": "2022-11-13T05:35:40.253042Z",
     "iopub.status.idle": "2022-11-13T05:35:42.177582Z",
     "shell.execute_reply": "2022-11-13T05:35:42.176246Z",
     "shell.execute_reply.started": "2022-11-13T05:35:40.253582Z"
    },
    "id": "WDFqKoYqVay5"
   },
   "outputs": [],
   "source": [
    "count=0\n",
    "corpus_clicks=[]\n",
    "corpus_carts=[]\n",
    "corpus_orders=[]\n",
    "## Grouping all data of a single session to\n",
    "carts,clicks,orders=total.groupby('type')\n",
    "carts=pd.DataFrame(carts[1])\n",
    "clicks=pd.DataFrame(clicks[1])\n",
    "orders=pd.DataFrame(orders[1])"
   ]
  },
  {
   "cell_type": "code",
   "execution_count": 20,
   "metadata": {
    "execution": {
     "iopub.execute_input": "2022-11-13T05:35:42.179426Z",
     "iopub.status.busy": "2022-11-13T05:35:42.179069Z",
     "iopub.status.idle": "2022-11-13T05:40:53.441873Z",
     "shell.execute_reply": "2022-11-13T05:40:53.440379Z",
     "shell.execute_reply.started": "2022-11-13T05:35:42.179396Z"
    }
   },
   "outputs": [],
   "source": [
    "for session,group_df in clicks.groupby(['session']):\n",
    "    corpus_clicks.append(list(group_df['aid'].astype(str)+'_'+group_df['type']))\n",
    "for session,group_df in carts.groupby(['session']):\n",
    "    corpus_carts.append(list(group_df['aid'].astype(str)+'_'+group_df['type']))\n",
    "for session,group_df in orders.groupby(['session']):\n",
    "    corpus_orders.append(list(group_df['aid'].astype(str)+'_'+group_df['type']))"
   ]
  },
  {
   "cell_type": "code",
   "execution_count": 21,
   "metadata": {
    "execution": {
     "iopub.execute_input": "2022-11-13T05:40:53.443847Z",
     "iopub.status.busy": "2022-11-13T05:40:53.443497Z",
     "iopub.status.idle": "2022-11-13T05:43:16.321478Z",
     "shell.execute_reply": "2022-11-13T05:43:16.320056Z",
     "shell.execute_reply.started": "2022-11-13T05:40:53.443818Z"
    }
   },
   "outputs": [],
   "source": [
    "v_2_vec_clicks=word2vec.Word2Vec(sentences=corpus_clicks,vector_size=100,window=5,min_count=1)\n",
    "v_2_vec_carts=word2vec.Word2Vec(sentences=corpus_carts,vector_size=100,window=5,min_count=1)\n",
    "v_2_vec_orders=word2vec.Word2Vec(sentences=corpus_orders,vector_size=100,window=5,min_count=1)"
   ]
  },
  {
   "cell_type": "code",
   "execution_count": 22,
   "metadata": {
    "execution": {
     "iopub.execute_input": "2022-11-13T05:43:16.323162Z",
     "iopub.status.busy": "2022-11-13T05:43:16.322842Z",
     "iopub.status.idle": "2022-11-13T05:43:23.740010Z",
     "shell.execute_reply": "2022-11-13T05:43:23.738819Z",
     "shell.execute_reply.started": "2022-11-13T05:43:16.323133Z"
    }
   },
   "outputs": [],
   "source": [
    "v_2_vec_clicks.wv.save_word2vec_format('otto_v_2_vec_clicks.bin',binary=True)\n",
    "v_2_vec_carts.wv.save_word2vec_format('otto_v_2_vec_carts.bin',binary=True)\n",
    "v_2_vec_orders.wv.save_word2vec_format('otto_v_2_vec_orders.bin',binary=True)"
   ]
  },
  {
   "cell_type": "markdown",
   "metadata": {},
   "source": [
    "##### Predictions with word2vec model"
   ]
  },
  {
   "cell_type": "code",
   "execution_count": 23,
   "metadata": {
    "execution": {
     "iopub.execute_input": "2022-11-13T05:43:23.741809Z",
     "iopub.status.busy": "2022-11-13T05:43:23.741441Z",
     "iopub.status.idle": "2022-11-13T05:43:23.950656Z",
     "shell.execute_reply": "2022-11-13T05:43:23.949386Z",
     "shell.execute_reply.started": "2022-11-13T05:43:23.741776Z"
    }
   },
   "outputs": [],
   "source": [
    "carts_t,clicks_t,orders_t=test.groupby('type')\n",
    "carts_t=pd.DataFrame(carts_t[1])\n",
    "clicks_t=pd.DataFrame(clicks_t[1])\n",
    "orders_t=pd.DataFrame(orders_t[1])"
   ]
  },
  {
   "cell_type": "code",
   "execution_count": 24,
   "metadata": {
    "execution": {
     "iopub.execute_input": "2022-11-13T05:43:23.952934Z",
     "iopub.status.busy": "2022-11-13T05:43:23.952484Z",
     "iopub.status.idle": "2022-11-13T05:50:56.020005Z",
     "shell.execute_reply": "2022-11-13T05:50:56.018338Z",
     "shell.execute_reply.started": "2022-11-13T05:43:23.952890Z"
    }
   },
   "outputs": [],
   "source": [
    "all_aids_carts=[]\n",
    "for session,group_df in carts_t.groupby(['session']):\n",
    "    aids_carts=[]\n",
    "    results_carts=v_2_vec_carts.wv.most_similar(positive=list(group_df['aid'].astype(str)+\"_\"+group_df['type']),topn=20)\n",
    "    for res in results_carts:\n",
    "        aid=res[0].split('_')[0]\n",
    "        if aid not in aids_carts:\n",
    "            aids_carts.append(aid)\n",
    "        if len(aids_carts) == 20:\n",
    "            sesh_id=f\"{session}_carts\"\n",
    "            all_aids_carts.append([sesh_id,aids_carts])\n",
    "            break    "
   ]
  },
  {
   "cell_type": "code",
   "execution_count": null,
   "metadata": {
    "execution": {
     "iopub.execute_input": "2022-11-13T05:50:56.024787Z",
     "iopub.status.busy": "2022-11-13T05:50:56.023015Z"
    }
   },
   "outputs": [],
   "source": [
    "all_aids_clicks=[]\n",
    "for session,group_df in clicks_t.groupby(['session']):\n",
    "    aids_clicks=[]\n",
    "    results_clicks=v_2_vec_clicks.wv.most_similar(positive=list(group_df['aid'].astype(str)+\"_\"+group_df['type']),topn=20)\n",
    "    for res in results_clicks:\n",
    "        aid=res[0].split('_')[0]\n",
    "        if aid not in aids_clicks:\n",
    "            aids_clicks.append(aid)\n",
    "        if len(aids_clicks) == 20:\n",
    "            sesh_id=f\"{session}_clicks\"\n",
    "            all_aids_clicks.append([sesh_id,aids_clicks])\n",
    "            break"
   ]
  },
  {
   "cell_type": "code",
   "execution_count": null,
   "metadata": {},
   "outputs": [],
   "source": [
    "all_aids_orders=[]\n",
    "for session,group_df in orders_t.groupby(['session']):\n",
    "    aids_orders=[]\n",
    "    results_orders=v_2_vec_orders.wv.most_similar(positive=list(group_df['aid'].astype(str)+\"_\"+group_df['type']),topn=20)\n",
    "    for res in results_orders:\n",
    "        aid=res[0].split('_')[0]\n",
    "        if aid not in aids_orders:\n",
    "            aids_orderss.append(aid)\n",
    "        if len(aids_orders) == 20:\n",
    "            sesh_id=f\"{session}_carts\"\n",
    "            all_aids_orders.append([sesh_id,aids_orders])\n",
    "            break"
   ]
  },
  {
   "cell_type": "code",
   "execution_count": null,
   "metadata": {},
   "outputs": [],
   "source": [
    "with open(r'carts.txt', 'w') as fp:\n",
    "    for item in all_aids_carts:\n",
    "        # write each item on a new line\n",
    "        fp.write(\"%s\\n\" % item)\n",
    "    print('Done')\n",
    "with open(r'clicks.txt', 'w') as fp:\n",
    "    for item in all_aids_clicks:\n",
    "        # write each item on a new line\n",
    "        fp.write(\"%s\\n\" % item)\n",
    "    print('Done')\n",
    "with open(r'orders.txt', 'w') as fp:\n",
    "    for item in all_aids_orders:\n",
    "        # write each item on a new line\n",
    "        fp.write(\"%s\\n\" % item)\n",
    "    print('Done')"
   ]
  },
  {
   "cell_type": "code",
   "execution_count": null,
   "metadata": {},
   "outputs": [],
   "source": [
    "all_aids=[]\n",
    "print(\"Output :\",all_aids)"
   ]
  },
  {
   "cell_type": "markdown",
   "metadata": {
    "id": "3aUX33LBOgE5"
   },
   "source": [
    "#### Model 2"
   ]
  },
  {
   "cell_type": "markdown",
   "metadata": {},
   "source": [
    "The test data contains truncated session data similar to that of the training data. The task is to predict the next aid clicked after the session truncation, as well as the the remaining aids that are added to carts and orders; you may predict up to 20 values for each session type\n",
    "\n",
    "Submissions are evaluated on Recall each action type, and the three recall values are weight-averaged: {'clicks': 0.10, 'carts': 0.30, 'orders': 0.60} . It is important to get the 'orders' predictions correct as they carry most of the weigthing\n",
    "\n",
    "For each session in the test data, we have to predict the aid values for each type that occur after the last timestamp i.e predict what occurs after the point of truncation.\n",
    "\n",
    "For clicks there is only a single ground truth value for each session, which is the next aid clicked during the session . The ground truth for carts and orders contains all aid values that were added to a cart and ordered respectively during the session.\n",
    "\n",
    "This baseline will use the fact that people will often interact with articles they have previouslt interacted with. The prediction will consist of the top 20 most frequent articles in the session. If there are less than 20 articles in the session the prediction will be padded with the most frequent articles in the training data"
   ]
  },
  {
   "cell_type": "code",
   "execution_count": null,
   "metadata": {},
   "outputs": [],
   "source": [
    "from collections import Counter\n",
    "from tqdm.notebook import tqdm\n",
    "DATA_PATH = pathlib.Path('../input/otto-recommender-system')\n",
    "TEST_PATH = DATA_PATH/'test.jsonl'\n",
    "TRAIN_PATH = DATA_PATH/'train.jsonl'\n",
    "from heapq import nlargest"
   ]
  },
  {
   "cell_type": "code",
   "execution_count": null,
   "metadata": {},
   "outputs": [],
   "source": [
    "sample_size = 150000\n",
    "\n",
    "chunks = pd.read_json(TRAIN_PATH, lines=True, chunksize = sample_size)\n",
    "\n",
    "clicks_article_list = []\n",
    "carts_article_list = []\n",
    "orders_article_list = []\n",
    "\n",
    "for e, c in enumerate(chunks):\n",
    "    \n",
    "    # Save time by not using all the data\n",
    "    if e > 2:\n",
    "        break\n",
    "    \n",
    "    sample_train_df = c\n",
    "    \n",
    "    for i, row in c.iterrows():\n",
    "        actions = row['events']\n",
    "        for action in actions:\n",
    "            if action['type'] == 'clicks':\n",
    "                clicks_article_list.append(action['aid'])\n",
    "            elif action['type'] == 'carts':\n",
    "                carts_article_list.append(action['aid'])\n",
    "            else:\n",
    "                orders_article_list.append(action['aid'])\n",
    "    \n",
    "article_click_freq = Counter(clicks_article_list)\n",
    "article_carts_freq = Counter(carts_article_list)\n",
    "article_order_freq = Counter(orders_article_list)\n",
    "top_click_article = nlargest(20, article_click_freq, key = article_click_freq.get)\n",
    "top_carts_article = nlargest(20, article_carts_freq, key = article_carts_freq.get)\n",
    "top_order_article = nlargest(20, article_order_freq, key = article_order_freq.get) \n",
    "frequent_articles = {'clicks': top_click_article, 'carts':top_carts_article, 'order':top_order_article}"
   ]
  },
  {
   "cell_type": "code",
   "execution_count": null,
   "metadata": {},
   "outputs": [],
   "source": [
    "test_data = pd.read_json(TEST_PATH, lines=True, chunksize=1000)\n",
    "\n",
    "preds = []\n",
    "\n",
    "for chunk in tqdm(test_data, total=1671):\n",
    "    \n",
    "    for i, row in chunk.iterrows():\n",
    "        actions = row['events']\n",
    "        article_id_list = []\n",
    "        for action in actions:\n",
    "            article_id_list.append(action['aid'])\n",
    "\n",
    "        article_freq = Counter(article_id_list)\n",
    "        top_articles = nlargest(20, article_freq, key = article_freq.get)\n",
    "        \n",
    "        # Pad with most popular items in training\n",
    "        padding_size = -(20 - len(top_articles))\n",
    "        for action in ['clicks', 'carts', 'order']:\n",
    "            top_articles = top_articles + frequent_articles[action][padding_size:]\n",
    "            preds.append(\" \".join([str(id) for id in top_articles]))"
   ]
  },
  {
   "cell_type": "markdown",
   "metadata": {},
   "source": [
    "preds has the required predictions"
   ]
  }
 ],
 "metadata": {
  "colab": {
   "provenance": []
  },
  "kernelspec": {
   "display_name": "Python 3 (ipykernel)",
   "language": "python",
   "name": "python3"
  },
  "language_info": {
   "codemirror_mode": {
    "name": "ipython",
    "version": 3
   },
   "file_extension": ".py",
   "mimetype": "text/x-python",
   "name": "python",
   "nbconvert_exporter": "python",
   "pygments_lexer": "ipython3",
   "version": "3.9.12"
  }
 },
 "nbformat": 4,
 "nbformat_minor": 4
}
